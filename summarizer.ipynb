{
 "cells": [
  {
   "cell_type": "code",
   "execution_count": 1,
   "id": "62e80d21-7a02-479e-997f-a3b126dbbd8d",
   "metadata": {},
   "outputs": [
    {
     "name": "stdout",
     "output_type": "stream",
     "text": [
      "\n",
      "🔹 Summary of the Page:\n",
      "\n",
      "- **Definition**:\n",
      "  - Web scraping, also known as web harvesting or web data extraction, is a technique used to extract data from websites.\n",
      "  - It involves fetching web pages and extracting useful data, typically copying it to a local database or spreadsheet for analysis.\n",
      "\n",
      "- **Techniques**:\n",
      "  - **Human copy-and-paste**: Manual extraction by a user.\n",
      "  - **Text pattern matching**: Using string matching to locate data.\n",
      "  - **HTTP programming**: Interacting with websites through HTTP requests.\n",
      "  - **HTML parsing**: Analyzing the HTML structure to extract data.\n",
      "  - **DOM parsing**: Manipulating the document object model to get information.\n",
      "  - **Vertical aggregation**: Aggregating data within a specific domain.\n",
      "  - **Semantic annotation recognizing**: Leveraging metadata for data scraping.\n",
      "  - **Computer vision web-page analysis**: Using computer vision to interpret page layouts.\n",
      "  - **AI-powered document understanding**: Employing AI to comprehend and extract information from complex documents.\n",
      "\n",
      "- **Legal Issues**:\n",
      "  - **United States**, **European Union**, **Australia**, and **India**: Various legal frameworks and rulings regulate web scraping, focusing on intellectual property laws and terms of service.\n",
      "\n",
      "- **Prevention Methods**:\n",
      "  - Websites may employ specific techniques to prevent web scraping.\n",
      "\n",
      "- **Related Topics**:\n",
      "  - Data scraping and scraper sites.\n",
      "\n",
      "- **Additional Information**:\n",
      "  - Web scraping typically involves automated processes using bots or web crawlers.\n",
      "  - Ensures data is prepared for later retrieval or analysis after extraction.\n",
      "\n",
      "- **Important Note**:\n",
      "  - The article emphasizes the need for verification and reliable sourcing to improve its information.\n"
     ]
    }
   ],
   "source": [
    "import os\n",
    "import requests\n",
    "from bs4 import BeautifulSoup\n",
    "from dotenv import load_dotenv\n",
    "from openai import OpenAI\n",
    "\n",
    "# 1. Load OpenAI API key from .env file\n",
    "load_dotenv()\n",
    "api_key = os.getenv(\"OPENAI_API_KEY\")\n",
    "openai = OpenAI()\n",
    "\n",
    "# 2. Scrape and clean text from a website\n",
    "def scrape_website(url):\n",
    "    headers = {\"User-Agent\": \"Mozilla/5.0\"}\n",
    "    response = requests.get(url, headers=headers)\n",
    "    soup = BeautifulSoup(response.content, \"html.parser\")\n",
    "    \n",
    "    # Remove unwanted tags\n",
    "    for tag in soup([\"script\", \"style\", \"img\", \"input\"]):\n",
    "        tag.decompose()\n",
    "    \n",
    "    title = soup.title.string if soup.title else \"Untitled Page\"\n",
    "    text = soup.body.get_text(separator=\"\\n\", strip=True)\n",
    "    \n",
    "    return title, text\n",
    "\n",
    "# 3. Create system and user prompts\n",
    "def summarize_text(title, full_text):\n",
    "    system_msg = \"You are a helpful assistant that summarizes long website content in clean bullet points.\"\n",
    "    user_msg = f\"The website is titled '{title}'. Please summarize the content:\\n\\n{full_text[:3000]}\"  # Limit to ~3k chars\n",
    "    \n",
    "    response = openai.chat.completions.create(\n",
    "        model=\"gpt-4o\",\n",
    "        messages=[\n",
    "            {\"role\": \"system\", \"content\": system_msg},\n",
    "            {\"role\": \"user\", \"content\": user_msg}\n",
    "        ]\n",
    "    )\n",
    "    return response.choices[0].message.content\n",
    "\n",
    "# 4. Run everything together\n",
    "url = \"https://en.wikipedia.org/wiki/Web_scraping\"  # You can change this!\n",
    "title, text = scrape_website(url)\n",
    "summary = summarize_text(title, text)\n",
    "\n",
    "print(\"\\n🔹 Summary of the Page:\\n\")\n",
    "print(summary)"
   ]
  },
  {
   "cell_type": "code",
   "execution_count": null,
   "id": "0a7655d3-37f6-401f-bfca-5cf328a3ade8",
   "metadata": {},
   "outputs": [],
   "source": []
  }
 ],
 "metadata": {
  "kernelspec": {
   "display_name": "Python 3 (ipykernel)",
   "language": "python",
   "name": "python3"
  },
  "language_info": {
   "codemirror_mode": {
    "name": "ipython",
    "version": 3
   },
   "file_extension": ".py",
   "mimetype": "text/x-python",
   "name": "python",
   "nbconvert_exporter": "python",
   "pygments_lexer": "ipython3",
   "version": "3.11.13"
  }
 },
 "nbformat": 4,
 "nbformat_minor": 5
}
